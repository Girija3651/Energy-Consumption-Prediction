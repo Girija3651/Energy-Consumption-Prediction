{
 "cells": [
  {
   "cell_type": "markdown",
   "id": "9a4db60b-1b1d-4fcd-b0e1-37039246ad3d",
   "metadata": {},
   "source": [
    "## Energy Consumption and Prediction Project"
   ]
  },
  {
   "cell_type": "markdown",
   "id": "3cb67e8c-17fe-4f71-a9e6-10f5eb999fcf",
   "metadata": {},
   "source": [
    "### Step1: Data Explorations"
   ]
  },
  {
   "cell_type": "markdown",
   "id": "fb4b90ac-4b5d-4a30-a9b9-210d4ec9190a",
   "metadata": {},
   "source": [
    "##### Importing Libraries"
   ]
  },
  {
   "cell_type": "code",
   "execution_count": 1,
   "id": "a9d1b468-431c-4cb4-b310-518fcfa55a39",
   "metadata": {},
   "outputs": [],
   "source": [
    "import pandas as pd\n",
    "import numpy as anp"
   ]
  },
  {
   "cell_type": "markdown",
   "id": "8d78b88d-9125-4967-8518-9cca841a86cf",
   "metadata": {},
   "source": [
    "### Reading Dataset\n",
    "##### The file 'hpc.txt' is read with a semicolon (;) separator\n",
    "##### hpc = household_power_consumption"
   ]
  },
  {
   "cell_type": "code",
   "execution_count": 2,
   "id": "54c6d117-5054-4d15-80c7-4d31823b92b7",
   "metadata": {},
   "outputs": [
    {
     "name": "stderr",
     "output_type": "stream",
     "text": [
      "C:\\Users\\peeth\\AppData\\Local\\Temp\\ipykernel_2908\\4060873768.py:1: DtypeWarning: Columns (2,3,4,5,6,7) have mixed types. Specify dtype option on import or set low_memory=False.\n",
      "  df = pd.read_csv('hpc.txt',sep=\";\")\n"
     ]
    }
   ],
   "source": [
    "df = pd.read_csv('hpc.txt',sep=\";\")"
   ]
  },
  {
   "cell_type": "markdown",
   "id": "86826fc8-d2e2-42b3-988f-4724f581dbea",
   "metadata": {},
   "source": [
    "### Understanding Structure of Dataset\n",
    "#### Display the first few rows of the dataset"
   ]
  },
  {
   "cell_type": "code",
   "execution_count": 3,
   "id": "4b1ec973-fbdd-4206-ac9e-8d08475ef74f",
   "metadata": {},
   "outputs": [
    {
     "data": {
      "text/html": [
       "<div>\n",
       "<style scoped>\n",
       "    .dataframe tbody tr th:only-of-type {\n",
       "        vertical-align: middle;\n",
       "    }\n",
       "\n",
       "    .dataframe tbody tr th {\n",
       "        vertical-align: top;\n",
       "    }\n",
       "\n",
       "    .dataframe thead th {\n",
       "        text-align: right;\n",
       "    }\n",
       "</style>\n",
       "<table border=\"1\" class=\"dataframe\">\n",
       "  <thead>\n",
       "    <tr style=\"text-align: right;\">\n",
       "      <th></th>\n",
       "      <th>Date</th>\n",
       "      <th>Time</th>\n",
       "      <th>Global_active_power</th>\n",
       "      <th>Global_reactive_power</th>\n",
       "      <th>Voltage</th>\n",
       "      <th>Global_intensity</th>\n",
       "      <th>Sub_metering_1</th>\n",
       "      <th>Sub_metering_2</th>\n",
       "      <th>Sub_metering_3</th>\n",
       "    </tr>\n",
       "  </thead>\n",
       "  <tbody>\n",
       "    <tr>\n",
       "      <th>0</th>\n",
       "      <td>16/12/2006</td>\n",
       "      <td>17:24:00</td>\n",
       "      <td>4.216</td>\n",
       "      <td>0.418</td>\n",
       "      <td>234.840</td>\n",
       "      <td>18.400</td>\n",
       "      <td>0.000</td>\n",
       "      <td>1.000</td>\n",
       "      <td>17.0</td>\n",
       "    </tr>\n",
       "    <tr>\n",
       "      <th>1</th>\n",
       "      <td>16/12/2006</td>\n",
       "      <td>17:25:00</td>\n",
       "      <td>5.360</td>\n",
       "      <td>0.436</td>\n",
       "      <td>233.630</td>\n",
       "      <td>23.000</td>\n",
       "      <td>0.000</td>\n",
       "      <td>1.000</td>\n",
       "      <td>16.0</td>\n",
       "    </tr>\n",
       "    <tr>\n",
       "      <th>2</th>\n",
       "      <td>16/12/2006</td>\n",
       "      <td>17:26:00</td>\n",
       "      <td>5.374</td>\n",
       "      <td>0.498</td>\n",
       "      <td>233.290</td>\n",
       "      <td>23.000</td>\n",
       "      <td>0.000</td>\n",
       "      <td>2.000</td>\n",
       "      <td>17.0</td>\n",
       "    </tr>\n",
       "    <tr>\n",
       "      <th>3</th>\n",
       "      <td>16/12/2006</td>\n",
       "      <td>17:27:00</td>\n",
       "      <td>5.388</td>\n",
       "      <td>0.502</td>\n",
       "      <td>233.740</td>\n",
       "      <td>23.000</td>\n",
       "      <td>0.000</td>\n",
       "      <td>1.000</td>\n",
       "      <td>17.0</td>\n",
       "    </tr>\n",
       "    <tr>\n",
       "      <th>4</th>\n",
       "      <td>16/12/2006</td>\n",
       "      <td>17:28:00</td>\n",
       "      <td>3.666</td>\n",
       "      <td>0.528</td>\n",
       "      <td>235.680</td>\n",
       "      <td>15.800</td>\n",
       "      <td>0.000</td>\n",
       "      <td>1.000</td>\n",
       "      <td>17.0</td>\n",
       "    </tr>\n",
       "  </tbody>\n",
       "</table>\n",
       "</div>"
      ],
      "text/plain": [
       "         Date      Time Global_active_power Global_reactive_power  Voltage  \\\n",
       "0  16/12/2006  17:24:00               4.216                 0.418  234.840   \n",
       "1  16/12/2006  17:25:00               5.360                 0.436  233.630   \n",
       "2  16/12/2006  17:26:00               5.374                 0.498  233.290   \n",
       "3  16/12/2006  17:27:00               5.388                 0.502  233.740   \n",
       "4  16/12/2006  17:28:00               3.666                 0.528  235.680   \n",
       "\n",
       "  Global_intensity Sub_metering_1 Sub_metering_2  Sub_metering_3  \n",
       "0           18.400          0.000          1.000            17.0  \n",
       "1           23.000          0.000          1.000            16.0  \n",
       "2           23.000          0.000          2.000            17.0  \n",
       "3           23.000          0.000          1.000            17.0  \n",
       "4           15.800          0.000          1.000            17.0  "
      ]
     },
     "execution_count": 3,
     "metadata": {},
     "output_type": "execute_result"
    }
   ],
   "source": [
    "df.head()"
   ]
  },
  {
   "cell_type": "markdown",
   "id": "41c69a7f-b4dd-46d0-9cc2-333896270a5c",
   "metadata": {},
   "source": [
    "### Observation\n",
    "##### It displayed first 5 rows"
   ]
  },
  {
   "cell_type": "markdown",
   "id": "1b1bbb96-49e3-4e3d-b093-58acebb334ed",
   "metadata": {},
   "source": [
    "####  Display the last few rows to check if the data is consistent"
   ]
  },
  {
   "cell_type": "code",
   "execution_count": 4,
   "id": "ab1db38f-f593-48b3-960c-5c80ab0ffc49",
   "metadata": {},
   "outputs": [
    {
     "data": {
      "text/html": [
       "<div>\n",
       "<style scoped>\n",
       "    .dataframe tbody tr th:only-of-type {\n",
       "        vertical-align: middle;\n",
       "    }\n",
       "\n",
       "    .dataframe tbody tr th {\n",
       "        vertical-align: top;\n",
       "    }\n",
       "\n",
       "    .dataframe thead th {\n",
       "        text-align: right;\n",
       "    }\n",
       "</style>\n",
       "<table border=\"1\" class=\"dataframe\">\n",
       "  <thead>\n",
       "    <tr style=\"text-align: right;\">\n",
       "      <th></th>\n",
       "      <th>Date</th>\n",
       "      <th>Time</th>\n",
       "      <th>Global_active_power</th>\n",
       "      <th>Global_reactive_power</th>\n",
       "      <th>Voltage</th>\n",
       "      <th>Global_intensity</th>\n",
       "      <th>Sub_metering_1</th>\n",
       "      <th>Sub_metering_2</th>\n",
       "      <th>Sub_metering_3</th>\n",
       "    </tr>\n",
       "  </thead>\n",
       "  <tbody>\n",
       "    <tr>\n",
       "      <th>2075254</th>\n",
       "      <td>26/11/2010</td>\n",
       "      <td>20:58:00</td>\n",
       "      <td>0.946</td>\n",
       "      <td>0.0</td>\n",
       "      <td>240.43</td>\n",
       "      <td>4.0</td>\n",
       "      <td>0.0</td>\n",
       "      <td>0.0</td>\n",
       "      <td>0.0</td>\n",
       "    </tr>\n",
       "    <tr>\n",
       "      <th>2075255</th>\n",
       "      <td>26/11/2010</td>\n",
       "      <td>20:59:00</td>\n",
       "      <td>0.944</td>\n",
       "      <td>0.0</td>\n",
       "      <td>240.0</td>\n",
       "      <td>4.0</td>\n",
       "      <td>0.0</td>\n",
       "      <td>0.0</td>\n",
       "      <td>0.0</td>\n",
       "    </tr>\n",
       "    <tr>\n",
       "      <th>2075256</th>\n",
       "      <td>26/11/2010</td>\n",
       "      <td>21:00:00</td>\n",
       "      <td>0.938</td>\n",
       "      <td>0.0</td>\n",
       "      <td>239.82</td>\n",
       "      <td>3.8</td>\n",
       "      <td>0.0</td>\n",
       "      <td>0.0</td>\n",
       "      <td>0.0</td>\n",
       "    </tr>\n",
       "    <tr>\n",
       "      <th>2075257</th>\n",
       "      <td>26/11/2010</td>\n",
       "      <td>21:01:00</td>\n",
       "      <td>0.934</td>\n",
       "      <td>0.0</td>\n",
       "      <td>239.7</td>\n",
       "      <td>3.8</td>\n",
       "      <td>0.0</td>\n",
       "      <td>0.0</td>\n",
       "      <td>0.0</td>\n",
       "    </tr>\n",
       "    <tr>\n",
       "      <th>2075258</th>\n",
       "      <td>26/11/2010</td>\n",
       "      <td>21:02:00</td>\n",
       "      <td>0.932</td>\n",
       "      <td>0.0</td>\n",
       "      <td>239.55</td>\n",
       "      <td>3.8</td>\n",
       "      <td>0.0</td>\n",
       "      <td>0.0</td>\n",
       "      <td>0.0</td>\n",
       "    </tr>\n",
       "  </tbody>\n",
       "</table>\n",
       "</div>"
      ],
      "text/plain": [
       "               Date      Time Global_active_power Global_reactive_power  \\\n",
       "2075254  26/11/2010  20:58:00               0.946                   0.0   \n",
       "2075255  26/11/2010  20:59:00               0.944                   0.0   \n",
       "2075256  26/11/2010  21:00:00               0.938                   0.0   \n",
       "2075257  26/11/2010  21:01:00               0.934                   0.0   \n",
       "2075258  26/11/2010  21:02:00               0.932                   0.0   \n",
       "\n",
       "        Voltage Global_intensity Sub_metering_1 Sub_metering_2  Sub_metering_3  \n",
       "2075254  240.43              4.0            0.0            0.0             0.0  \n",
       "2075255   240.0              4.0            0.0            0.0             0.0  \n",
       "2075256  239.82              3.8            0.0            0.0             0.0  \n",
       "2075257   239.7              3.8            0.0            0.0             0.0  \n",
       "2075258  239.55              3.8            0.0            0.0             0.0  "
      ]
     },
     "execution_count": 4,
     "metadata": {},
     "output_type": "execute_result"
    }
   ],
   "source": [
    "df.tail()"
   ]
  },
  {
   "cell_type": "markdown",
   "id": "3cdeeea7-3bcc-4c82-b8e6-78a43eeb9571",
   "metadata": {},
   "source": [
    "### Observation\n",
    "##### It displayed last 5 rows"
   ]
  },
  {
   "cell_type": "markdown",
   "id": "38a0c822-b344-4d2c-b4b5-e8863f86a035",
   "metadata": {},
   "source": [
    "#### 'describe()' gives a statistical summary for numerical columns: count, mean, min, max, std deviation"
   ]
  },
  {
   "cell_type": "code",
   "execution_count": 5,
   "id": "99eb0ba5-fdfd-4e3a-8599-bf6bdae84146",
   "metadata": {},
   "outputs": [
    {
     "data": {
      "text/html": [
       "<div>\n",
       "<style scoped>\n",
       "    .dataframe tbody tr th:only-of-type {\n",
       "        vertical-align: middle;\n",
       "    }\n",
       "\n",
       "    .dataframe tbody tr th {\n",
       "        vertical-align: top;\n",
       "    }\n",
       "\n",
       "    .dataframe thead th {\n",
       "        text-align: right;\n",
       "    }\n",
       "</style>\n",
       "<table border=\"1\" class=\"dataframe\">\n",
       "  <thead>\n",
       "    <tr style=\"text-align: right;\">\n",
       "      <th></th>\n",
       "      <th>Sub_metering_3</th>\n",
       "    </tr>\n",
       "  </thead>\n",
       "  <tbody>\n",
       "    <tr>\n",
       "      <th>count</th>\n",
       "      <td>2.049280e+06</td>\n",
       "    </tr>\n",
       "    <tr>\n",
       "      <th>mean</th>\n",
       "      <td>6.458447e+00</td>\n",
       "    </tr>\n",
       "    <tr>\n",
       "      <th>std</th>\n",
       "      <td>8.437154e+00</td>\n",
       "    </tr>\n",
       "    <tr>\n",
       "      <th>min</th>\n",
       "      <td>0.000000e+00</td>\n",
       "    </tr>\n",
       "    <tr>\n",
       "      <th>25%</th>\n",
       "      <td>0.000000e+00</td>\n",
       "    </tr>\n",
       "    <tr>\n",
       "      <th>50%</th>\n",
       "      <td>1.000000e+00</td>\n",
       "    </tr>\n",
       "    <tr>\n",
       "      <th>75%</th>\n",
       "      <td>1.700000e+01</td>\n",
       "    </tr>\n",
       "    <tr>\n",
       "      <th>max</th>\n",
       "      <td>3.100000e+01</td>\n",
       "    </tr>\n",
       "  </tbody>\n",
       "</table>\n",
       "</div>"
      ],
      "text/plain": [
       "       Sub_metering_3\n",
       "count    2.049280e+06\n",
       "mean     6.458447e+00\n",
       "std      8.437154e+00\n",
       "min      0.000000e+00\n",
       "25%      0.000000e+00\n",
       "50%      1.000000e+00\n",
       "75%      1.700000e+01\n",
       "max      3.100000e+01"
      ]
     },
     "execution_count": 5,
     "metadata": {},
     "output_type": "execute_result"
    }
   ],
   "source": [
    "df.describe()"
   ]
  },
  {
   "cell_type": "markdown",
   "id": "32c9534f-cb55-415c-812a-dc532abf5129",
   "metadata": {},
   "source": [
    "#### This returns the number of rows and columns"
   ]
  },
  {
   "cell_type": "code",
   "execution_count": 6,
   "id": "03738e9e-0e87-497c-b07d-3f427a441f5d",
   "metadata": {},
   "outputs": [
    {
     "data": {
      "text/plain": [
       "(2075259, 9)"
      ]
     },
     "execution_count": 6,
     "metadata": {},
     "output_type": "execute_result"
    }
   ],
   "source": [
    "df.shape"
   ]
  },
  {
   "cell_type": "markdown",
   "id": "ef46722c-a11d-432b-9c77-fd31895187e5",
   "metadata": {},
   "source": [
    "### Observation\n",
    "##### Dataset has 9 Colums and 2075259 Rows"
   ]
  },
  {
   "cell_type": "markdown",
   "id": "372beb1a-c527-41ae-9c4c-010ebc2d4793",
   "metadata": {},
   "source": [
    "#### 'describe(include=object)' gives information about non-numeric columns, such as counts, unique values,top and frequencies"
   ]
  },
  {
   "cell_type": "code",
   "execution_count": 7,
   "id": "0f1c192d-ee92-4fba-9771-f46463fab120",
   "metadata": {},
   "outputs": [
    {
     "data": {
      "text/html": [
       "<div>\n",
       "<style scoped>\n",
       "    .dataframe tbody tr th:only-of-type {\n",
       "        vertical-align: middle;\n",
       "    }\n",
       "\n",
       "    .dataframe tbody tr th {\n",
       "        vertical-align: top;\n",
       "    }\n",
       "\n",
       "    .dataframe thead th {\n",
       "        text-align: right;\n",
       "    }\n",
       "</style>\n",
       "<table border=\"1\" class=\"dataframe\">\n",
       "  <thead>\n",
       "    <tr style=\"text-align: right;\">\n",
       "      <th></th>\n",
       "      <th>Date</th>\n",
       "      <th>Time</th>\n",
       "      <th>Global_active_power</th>\n",
       "      <th>Global_reactive_power</th>\n",
       "      <th>Voltage</th>\n",
       "      <th>Global_intensity</th>\n",
       "      <th>Sub_metering_1</th>\n",
       "      <th>Sub_metering_2</th>\n",
       "    </tr>\n",
       "  </thead>\n",
       "  <tbody>\n",
       "    <tr>\n",
       "      <th>count</th>\n",
       "      <td>2075259</td>\n",
       "      <td>2075259</td>\n",
       "      <td>2075259</td>\n",
       "      <td>2075259</td>\n",
       "      <td>2075259</td>\n",
       "      <td>2075259</td>\n",
       "      <td>2075259</td>\n",
       "      <td>2075259</td>\n",
       "    </tr>\n",
       "    <tr>\n",
       "      <th>unique</th>\n",
       "      <td>1442</td>\n",
       "      <td>1440</td>\n",
       "      <td>6534</td>\n",
       "      <td>896</td>\n",
       "      <td>5168</td>\n",
       "      <td>377</td>\n",
       "      <td>153</td>\n",
       "      <td>145</td>\n",
       "    </tr>\n",
       "    <tr>\n",
       "      <th>top</th>\n",
       "      <td>6/12/2008</td>\n",
       "      <td>17:24:00</td>\n",
       "      <td>?</td>\n",
       "      <td>0.000</td>\n",
       "      <td>?</td>\n",
       "      <td>1.000</td>\n",
       "      <td>0.000</td>\n",
       "      <td>0.000</td>\n",
       "    </tr>\n",
       "    <tr>\n",
       "      <th>freq</th>\n",
       "      <td>1440</td>\n",
       "      <td>1442</td>\n",
       "      <td>25979</td>\n",
       "      <td>472786</td>\n",
       "      <td>25979</td>\n",
       "      <td>169406</td>\n",
       "      <td>1840611</td>\n",
       "      <td>1408274</td>\n",
       "    </tr>\n",
       "  </tbody>\n",
       "</table>\n",
       "</div>"
      ],
      "text/plain": [
       "             Date      Time Global_active_power Global_reactive_power  \\\n",
       "count     2075259   2075259             2075259               2075259   \n",
       "unique       1442      1440                6534                   896   \n",
       "top     6/12/2008  17:24:00                   ?                 0.000   \n",
       "freq         1440      1442               25979                472786   \n",
       "\n",
       "        Voltage Global_intensity Sub_metering_1 Sub_metering_2  \n",
       "count   2075259          2075259        2075259        2075259  \n",
       "unique     5168              377            153            145  \n",
       "top           ?            1.000          0.000          0.000  \n",
       "freq      25979           169406        1840611        1408274  "
      ]
     },
     "execution_count": 7,
     "metadata": {},
     "output_type": "execute_result"
    }
   ],
   "source": [
    "df.describe(include = object)"
   ]
  },
  {
   "cell_type": "markdown",
   "id": "0c962078-8e94-45a0-a22b-35d72cc343a3",
   "metadata": {},
   "source": [
    "### Observation \n",
    "##### There are some unique values and missing values"
   ]
  },
  {
   "cell_type": "markdown",
   "id": "de454c85-9643-473c-aee1-9e1d61a7ce58",
   "metadata": {},
   "source": [
    "#### 'nunique()' returns the number of unique values in each column"
   ]
  },
  {
   "cell_type": "code",
   "execution_count": 8,
   "id": "687738c6-f24c-4446-bb78-96a20d314ba9",
   "metadata": {},
   "outputs": [
    {
     "data": {
      "text/plain": [
       "Date                     1442\n",
       "Time                     1440\n",
       "Global_active_power      6534\n",
       "Global_reactive_power     896\n",
       "Voltage                  5168\n",
       "Global_intensity          377\n",
       "Sub_metering_1            153\n",
       "Sub_metering_2            145\n",
       "Sub_metering_3             32\n",
       "dtype: int64"
      ]
     },
     "execution_count": 8,
     "metadata": {},
     "output_type": "execute_result"
    }
   ],
   "source": [
    "df.nunique()"
   ]
  },
  {
   "cell_type": "markdown",
   "id": "45f1cfa7-4ae1-487a-b6c7-751a0164b1bb",
   "metadata": {},
   "source": [
    "#### 'info()' provides details about column names, data types"
   ]
  },
  {
   "cell_type": "code",
   "execution_count": 9,
   "id": "1b4a659b-8e56-474e-ac5e-0a482495005e",
   "metadata": {},
   "outputs": [
    {
     "name": "stdout",
     "output_type": "stream",
     "text": [
      "<class 'pandas.core.frame.DataFrame'>\n",
      "RangeIndex: 2075259 entries, 0 to 2075258\n",
      "Data columns (total 9 columns):\n",
      " #   Column                 Dtype  \n",
      "---  ------                 -----  \n",
      " 0   Date                   object \n",
      " 1   Time                   object \n",
      " 2   Global_active_power    object \n",
      " 3   Global_reactive_power  object \n",
      " 4   Voltage                object \n",
      " 5   Global_intensity       object \n",
      " 6   Sub_metering_1         object \n",
      " 7   Sub_metering_2         object \n",
      " 8   Sub_metering_3         float64\n",
      "dtypes: float64(1), object(8)\n",
      "memory usage: 142.5+ MB\n"
     ]
    }
   ],
   "source": [
    "df.info()"
   ]
  },
  {
   "cell_type": "markdown",
   "id": "cc8cfe03-bbd6-494b-b606-af29616be255",
   "metadata": {},
   "source": [
    "### Obserbation\n",
    "##### The dataset consists of multiple columns, including both numerical and object types"
   ]
  },
  {
   "cell_type": "markdown",
   "id": "0f3e1878-18ea-4f04-8189-92731360d296",
   "metadata": {},
   "source": [
    "##### To get accurate Null values , first we have to convert columns which are in string to numericals"
   ]
  },
  {
   "cell_type": "markdown",
   "id": "669b2f3b-ec0d-414c-9c62-fe02d83db96f",
   "metadata": {},
   "source": [
    "##### Combined 'Date' and 'Time' columns to create a new 'Datetime' column\n",
    "\n",
    "#### I combined date and time colums because - \n",
    "\n",
    "#####      Use time-based indexing to easily filter or retrieve data from a specific time range\n",
    "\n",
    "######     Calculate time intervals between different records"
   ]
  },
  {
   "cell_type": "code",
   "execution_count": 10,
   "id": "663aa4db-c5cd-4c57-9079-9922ec79a9e8",
   "metadata": {},
   "outputs": [],
   "source": [
    "df['Datetime'] = pd.to_datetime(df['Date'] + ' ' + df['Time'], format='%d/%m/%Y %H:%M:%S')\n",
    "df.drop(['Date', 'Time'], axis=1, inplace=True)"
   ]
  },
  {
   "cell_type": "markdown",
   "id": "ccf4da1b-fe63-4b72-b216-54facaddc6e9",
   "metadata": {},
   "source": [
    "##### Columns that represent numerical values but stored as strings are converted using 'to_numeric'\n",
    "##### 'errors=coerce' converts non-convertible values to NaN"
   ]
  },
  {
   "cell_type": "code",
   "execution_count": 11,
   "id": "fc10f01e-7b65-4ae6-b46e-5ba82ac7aea1",
   "metadata": {},
   "outputs": [],
   "source": [
    "cols_convert = ['Global_active_power', 'Global_reactive_power', 'Voltage', 'Global_intensity', 'Sub_metering_1', 'Sub_metering_2']\n",
    "\n",
    "for col in cols_convert:\n",
    "    df[col] = pd.to_numeric(df[col], errors='coerce')"
   ]
  },
  {
   "cell_type": "code",
   "execution_count": 12,
   "id": "e5ddd4db-5233-4dd0-b78b-53ba67688487",
   "metadata": {},
   "outputs": [
    {
     "data": {
      "text/html": [
       "<div>\n",
       "<style scoped>\n",
       "    .dataframe tbody tr th:only-of-type {\n",
       "        vertical-align: middle;\n",
       "    }\n",
       "\n",
       "    .dataframe tbody tr th {\n",
       "        vertical-align: top;\n",
       "    }\n",
       "\n",
       "    .dataframe thead th {\n",
       "        text-align: right;\n",
       "    }\n",
       "</style>\n",
       "<table border=\"1\" class=\"dataframe\">\n",
       "  <thead>\n",
       "    <tr style=\"text-align: right;\">\n",
       "      <th></th>\n",
       "      <th>Global_active_power</th>\n",
       "      <th>Global_reactive_power</th>\n",
       "      <th>Voltage</th>\n",
       "      <th>Global_intensity</th>\n",
       "      <th>Sub_metering_1</th>\n",
       "      <th>Sub_metering_2</th>\n",
       "      <th>Sub_metering_3</th>\n",
       "      <th>Datetime</th>\n",
       "    </tr>\n",
       "  </thead>\n",
       "  <tbody>\n",
       "    <tr>\n",
       "      <th>count</th>\n",
       "      <td>2.049280e+06</td>\n",
       "      <td>2.049280e+06</td>\n",
       "      <td>2.049280e+06</td>\n",
       "      <td>2.049280e+06</td>\n",
       "      <td>2.049280e+06</td>\n",
       "      <td>2.049280e+06</td>\n",
       "      <td>2.049280e+06</td>\n",
       "      <td>2075259</td>\n",
       "    </tr>\n",
       "    <tr>\n",
       "      <th>mean</th>\n",
       "      <td>1.091615e+00</td>\n",
       "      <td>1.237145e-01</td>\n",
       "      <td>2.408399e+02</td>\n",
       "      <td>4.627759e+00</td>\n",
       "      <td>1.121923e+00</td>\n",
       "      <td>1.298520e+00</td>\n",
       "      <td>6.458447e+00</td>\n",
       "      <td>2008-12-06 07:12:59.999994112</td>\n",
       "    </tr>\n",
       "    <tr>\n",
       "      <th>min</th>\n",
       "      <td>7.600000e-02</td>\n",
       "      <td>0.000000e+00</td>\n",
       "      <td>2.232000e+02</td>\n",
       "      <td>2.000000e-01</td>\n",
       "      <td>0.000000e+00</td>\n",
       "      <td>0.000000e+00</td>\n",
       "      <td>0.000000e+00</td>\n",
       "      <td>2006-12-16 17:24:00</td>\n",
       "    </tr>\n",
       "    <tr>\n",
       "      <th>25%</th>\n",
       "      <td>3.080000e-01</td>\n",
       "      <td>4.800000e-02</td>\n",
       "      <td>2.389900e+02</td>\n",
       "      <td>1.400000e+00</td>\n",
       "      <td>0.000000e+00</td>\n",
       "      <td>0.000000e+00</td>\n",
       "      <td>0.000000e+00</td>\n",
       "      <td>2007-12-12 00:18:30</td>\n",
       "    </tr>\n",
       "    <tr>\n",
       "      <th>50%</th>\n",
       "      <td>6.020000e-01</td>\n",
       "      <td>1.000000e-01</td>\n",
       "      <td>2.410100e+02</td>\n",
       "      <td>2.600000e+00</td>\n",
       "      <td>0.000000e+00</td>\n",
       "      <td>0.000000e+00</td>\n",
       "      <td>1.000000e+00</td>\n",
       "      <td>2008-12-06 07:13:00</td>\n",
       "    </tr>\n",
       "    <tr>\n",
       "      <th>75%</th>\n",
       "      <td>1.528000e+00</td>\n",
       "      <td>1.940000e-01</td>\n",
       "      <td>2.428900e+02</td>\n",
       "      <td>6.400000e+00</td>\n",
       "      <td>0.000000e+00</td>\n",
       "      <td>1.000000e+00</td>\n",
       "      <td>1.700000e+01</td>\n",
       "      <td>2009-12-01 14:07:30</td>\n",
       "    </tr>\n",
       "    <tr>\n",
       "      <th>max</th>\n",
       "      <td>1.112200e+01</td>\n",
       "      <td>1.390000e+00</td>\n",
       "      <td>2.541500e+02</td>\n",
       "      <td>4.840000e+01</td>\n",
       "      <td>8.800000e+01</td>\n",
       "      <td>8.000000e+01</td>\n",
       "      <td>3.100000e+01</td>\n",
       "      <td>2010-11-26 21:02:00</td>\n",
       "    </tr>\n",
       "    <tr>\n",
       "      <th>std</th>\n",
       "      <td>1.057294e+00</td>\n",
       "      <td>1.127220e-01</td>\n",
       "      <td>3.239987e+00</td>\n",
       "      <td>4.444396e+00</td>\n",
       "      <td>6.153031e+00</td>\n",
       "      <td>5.822026e+00</td>\n",
       "      <td>8.437154e+00</td>\n",
       "      <td>NaN</td>\n",
       "    </tr>\n",
       "  </tbody>\n",
       "</table>\n",
       "</div>"
      ],
      "text/plain": [
       "       Global_active_power  Global_reactive_power       Voltage  \\\n",
       "count         2.049280e+06           2.049280e+06  2.049280e+06   \n",
       "mean          1.091615e+00           1.237145e-01  2.408399e+02   \n",
       "min           7.600000e-02           0.000000e+00  2.232000e+02   \n",
       "25%           3.080000e-01           4.800000e-02  2.389900e+02   \n",
       "50%           6.020000e-01           1.000000e-01  2.410100e+02   \n",
       "75%           1.528000e+00           1.940000e-01  2.428900e+02   \n",
       "max           1.112200e+01           1.390000e+00  2.541500e+02   \n",
       "std           1.057294e+00           1.127220e-01  3.239987e+00   \n",
       "\n",
       "       Global_intensity  Sub_metering_1  Sub_metering_2  Sub_metering_3  \\\n",
       "count      2.049280e+06    2.049280e+06    2.049280e+06    2.049280e+06   \n",
       "mean       4.627759e+00    1.121923e+00    1.298520e+00    6.458447e+00   \n",
       "min        2.000000e-01    0.000000e+00    0.000000e+00    0.000000e+00   \n",
       "25%        1.400000e+00    0.000000e+00    0.000000e+00    0.000000e+00   \n",
       "50%        2.600000e+00    0.000000e+00    0.000000e+00    1.000000e+00   \n",
       "75%        6.400000e+00    0.000000e+00    1.000000e+00    1.700000e+01   \n",
       "max        4.840000e+01    8.800000e+01    8.000000e+01    3.100000e+01   \n",
       "std        4.444396e+00    6.153031e+00    5.822026e+00    8.437154e+00   \n",
       "\n",
       "                            Datetime  \n",
       "count                        2075259  \n",
       "mean   2008-12-06 07:12:59.999994112  \n",
       "min              2006-12-16 17:24:00  \n",
       "25%              2007-12-12 00:18:30  \n",
       "50%              2008-12-06 07:13:00  \n",
       "75%              2009-12-01 14:07:30  \n",
       "max              2010-11-26 21:02:00  \n",
       "std                              NaN  "
      ]
     },
     "execution_count": 12,
     "metadata": {},
     "output_type": "execute_result"
    }
   ],
   "source": [
    "df.describe()"
   ]
  },
  {
   "cell_type": "code",
   "execution_count": 13,
   "id": "6dfe57b1-d3bc-46b9-b838-8a6974e1b22f",
   "metadata": {},
   "outputs": [
    {
     "name": "stdout",
     "output_type": "stream",
     "text": [
      "<class 'pandas.core.frame.DataFrame'>\n",
      "RangeIndex: 2075259 entries, 0 to 2075258\n",
      "Data columns (total 8 columns):\n",
      " #   Column                 Dtype         \n",
      "---  ------                 -----         \n",
      " 0   Global_active_power    float64       \n",
      " 1   Global_reactive_power  float64       \n",
      " 2   Voltage                float64       \n",
      " 3   Global_intensity       float64       \n",
      " 4   Sub_metering_1         float64       \n",
      " 5   Sub_metering_2         float64       \n",
      " 6   Sub_metering_3         float64       \n",
      " 7   Datetime               datetime64[ns]\n",
      "dtypes: datetime64[ns](1), float64(7)\n",
      "memory usage: 126.7 MB\n"
     ]
    }
   ],
   "source": [
    "df.info()"
   ]
  },
  {
   "cell_type": "markdown",
   "id": "57a0361f-8f29-41ac-99d3-dacf60e1b671",
   "metadata": {},
   "source": [
    "### Observation\n",
    "##### All Datatypes changed to float and datetime colums create with datetime datatype"
   ]
  },
  {
   "cell_type": "markdown",
   "id": "6d2495f7-bcd8-445c-9ef9-ced6b429dc61",
   "metadata": {},
   "source": [
    "### Checking for null values\n",
    "#### 'isnull().any()' checks if there are any null values"
   ]
  },
  {
   "cell_type": "code",
   "execution_count": 14,
   "id": "b513eadd-945f-4241-9df3-e29d5fd34934",
   "metadata": {},
   "outputs": [
    {
     "data": {
      "text/plain": [
       "Global_active_power       True\n",
       "Global_reactive_power     True\n",
       "Voltage                   True\n",
       "Global_intensity          True\n",
       "Sub_metering_1            True\n",
       "Sub_metering_2            True\n",
       "Sub_metering_3            True\n",
       "Datetime                 False\n",
       "dtype: bool"
      ]
     },
     "execution_count": 14,
     "metadata": {},
     "output_type": "execute_result"
    }
   ],
   "source": [
    "df.isnull().any()"
   ]
  },
  {
   "cell_type": "markdown",
   "id": "88aaedc6-b852-4ffa-9313-a1a7d4bbd585",
   "metadata": {},
   "source": [
    "### Observation\n",
    "##### We have null values in every colums except datetime column"
   ]
  },
  {
   "cell_type": "markdown",
   "id": "39cf6e5e-4f91-41e1-a841-7994be6b8018",
   "metadata": {},
   "source": [
    "#### Calculate the percentage of null values in each column\n",
    "##### This helps assess how much data is missing"
   ]
  },
  {
   "cell_type": "code",
   "execution_count": 15,
   "id": "0f7f6551-731a-4957-ba38-8384f3d77d45",
   "metadata": {},
   "outputs": [
    {
     "data": {
      "text/plain": [
       "Global_active_power      1.251844\n",
       "Global_reactive_power    1.251844\n",
       "Voltage                  1.251844\n",
       "Global_intensity         1.251844\n",
       "Sub_metering_1           1.251844\n",
       "Sub_metering_2           1.251844\n",
       "Sub_metering_3           1.251844\n",
       "Datetime                 0.000000\n",
       "dtype: float64"
      ]
     },
     "execution_count": 15,
     "metadata": {},
     "output_type": "execute_result"
    }
   ],
   "source": [
    "(df.isnull().sum() / len(df)) * 100"
   ]
  },
  {
   "cell_type": "markdown",
   "id": "44ed90b0-dd6f-4132-873a-240c89f88f10",
   "metadata": {},
   "source": [
    "### Observation \n",
    "##### Every column missing 1.25% of data"
   ]
  },
  {
   "cell_type": "markdown",
   "id": "eeb4dc79-b95c-4d7c-8b02-d831630244c4",
   "metadata": {},
   "source": [
    "##### We can deal with null values by fill missing values with the mean , \n",
    "\n",
    "##### median of the column or delete row which have null values\n",
    "\n",
    "##### I am filling the mean of the column"
   ]
  },
  {
   "cell_type": "code",
   "execution_count": 16,
   "id": "47d1a2da-7b03-4cc1-a20c-027e70339ece",
   "metadata": {},
   "outputs": [],
   "source": [
    "null_columns = ['Global_active_power', 'Global_reactive_power', 'Voltage', 'Global_intensity', 'Sub_metering_1', 'Sub_metering_2','Sub_metering_3']\n",
    "\n",
    "for col in null_columns:\n",
    "    df[col].fillna(df[col].mean(), inplace=True)"
   ]
  },
  {
   "cell_type": "markdown",
   "id": "e4acf64b-4f3b-4942-816d-3d0afc82124d",
   "metadata": {},
   "source": [
    "#### Recheck for null values after handling"
   ]
  },
  {
   "cell_type": "code",
   "execution_count": 17,
   "id": "d7a18994-f0ee-4388-87f6-f6072f414688",
   "metadata": {},
   "outputs": [
    {
     "data": {
      "text/plain": [
       "Global_active_power      0\n",
       "Global_reactive_power    0\n",
       "Voltage                  0\n",
       "Global_intensity         0\n",
       "Sub_metering_1           0\n",
       "Sub_metering_2           0\n",
       "Sub_metering_3           0\n",
       "Datetime                 0\n",
       "dtype: int64"
      ]
     },
     "execution_count": 17,
     "metadata": {},
     "output_type": "execute_result"
    }
   ],
   "source": [
    "df.isnull().sum()"
   ]
  },
  {
   "cell_type": "markdown",
   "id": "acfc65e2-ff79-4931-bf93-dfb5c64dadbf",
   "metadata": {},
   "source": [
    "### Observation \n",
    "##### There are no null values"
   ]
  },
  {
   "cell_type": "code",
   "execution_count": null,
   "id": "d632b080-f70d-4b39-b9dd-42bd4f602f78",
   "metadata": {},
   "outputs": [],
   "source": []
  }
 ],
 "metadata": {
  "kernelspec": {
   "display_name": "Python 3 (ipykernel)",
   "language": "python",
   "name": "python3"
  },
  "language_info": {
   "codemirror_mode": {
    "name": "ipython",
    "version": 3
   },
   "file_extension": ".py",
   "mimetype": "text/x-python",
   "name": "python",
   "nbconvert_exporter": "python",
   "pygments_lexer": "ipython3",
   "version": "3.11.7"
  }
 },
 "nbformat": 4,
 "nbformat_minor": 5
}
